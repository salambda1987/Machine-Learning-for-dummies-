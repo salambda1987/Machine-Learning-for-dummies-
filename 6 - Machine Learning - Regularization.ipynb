{
 "cells": [
  {
   "cell_type": "markdown",
   "metadata": {
    "collapsed": true
   },
   "source": [
    "# Python Machine Learning 6\n",
    "# Regularization\n",
    "## *By Sal Lascano*"
   ]
  },
  {
   "cell_type": "code",
   "execution_count": null,
   "metadata": {
    "collapsed": true
   },
   "outputs": [],
   "source": []
  },
  {
   "cell_type": "markdown",
   "metadata": {},
   "source": [
    "By now we are familiar with some learning algorithms such as Linear Regression and Logistic Regression. These algorithms work well for many problems but sometimes we run into a problem called overfitting. Overfitting is the event where the algorithm performs extremely well with the training set but performs poorly with the test set. Algorithms overfit when they have high variance, to fix this we want to introduce some bias, we want to keep the parameters normal or regular so it can perform better with data it has not seen yet.  "
   ]
  },
  {
   "cell_type": "markdown",
   "metadata": {},
   "source": [
    "### Ridge Regression \n",
    "\n",
    "Lets recall the least squares \n",
    "$$\\sum_{i=1}^{n} (y^{(i)} - \\beta_0 - \\sum_{j=1}^{k} \\beta_jx_j^{(i)})^2$$\n",
    "\n",
    "**Ridge regression** instead estimates $\\beta$ by minimizing it, where $\\lambda \\ge 0$ is a *tuning parameter* to be determined.\n",
    "$$\\sum_{i=1}^{n} (y^{(i)} - \\beta_0 - \\sum_{j=1}^{k} \\beta_jx_j^{(i)})^2 + \\lambda \\sum_{j=1}^{k}\\beta_j^2$$\n",
    "\n",
    "By adding $\\lambda \\sum_{j=1}^{k}\\beta_j^2$ in the loss function, the estimation will try to shrink the parameters toward 0 (but not 0), hence this term is also called the **shrinkage penalty** or **L2 penalty**.\n",
    "\n",
    "The tuning parameter $\\lambda$ is used to control the impact of these two terms on the regression coefficient estimates. \n",
    "\n",
    "When $\\lambda = 0$, the ridge estimate is the same as with the least square estimate, so no penalty added.  \n",
    "\n",
    "Selecting a good value for $\\lambda$ is critical. In practice, we will do a grid search to find the best  $\\lambda$ values. We will talk about grid search in the next notebook. "
   ]
  },
  {
   "cell_type": "markdown",
   "metadata": {},
   "source": [
    "### Ridge Regression in Scikit-Learn\n",
    "\n",
    "If you read the documentation of **Ridge Regression** in python, you will see the following:\n",
    "\n",
    "$$\\min_{\\theta}  \\parallel X\\theta - y \\parallel_2^2 + \\alpha \\parallel \\theta \\parallel_2^2$$\n",
    "\n",
    "Which in essense it's the same as the ridge formula above, except they used $\\theta \\text{ and } \\alpha \\text{ in the place of } \\beta \\text{ and } \\lambda$. Also note that this function is in matrix notation. \n",
    "\n",
    "Traininging ridge regresison is similar to linear regression:"
   ]
  },
  {
   "cell_type": "code",
   "execution_count": 4,
   "metadata": {
    "collapsed": true
   },
   "outputs": [],
   "source": [
    "## prepare data\n",
    "import pandas as pd\n",
    "import numpy as np\n",
    "adver = pd.read_csv('adver.csv', index_col=0)\n",
    "x = np.array(adver[['TV', 'Radio', 'Newspaper']])\n",
    "y = np.array(adver['Sales'])"
   ]
  },
  {
   "cell_type": "code",
   "execution_count": 5,
   "metadata": {},
   "outputs": [
    {
     "data": {
      "text/html": [
       "<div>\n",
       "<style scoped>\n",
       "    .dataframe tbody tr th:only-of-type {\n",
       "        vertical-align: middle;\n",
       "    }\n",
       "\n",
       "    .dataframe tbody tr th {\n",
       "        vertical-align: top;\n",
       "    }\n",
       "\n",
       "    .dataframe thead th {\n",
       "        text-align: right;\n",
       "    }\n",
       "</style>\n",
       "<table border=\"1\" class=\"dataframe\">\n",
       "  <thead>\n",
       "    <tr style=\"text-align: right;\">\n",
       "      <th></th>\n",
       "      <th>TV</th>\n",
       "      <th>Radio</th>\n",
       "      <th>Newspaper</th>\n",
       "      <th>Sales</th>\n",
       "    </tr>\n",
       "  </thead>\n",
       "  <tbody>\n",
       "    <tr>\n",
       "      <th>0</th>\n",
       "      <td>230.1</td>\n",
       "      <td>37.8</td>\n",
       "      <td>69.2</td>\n",
       "      <td>22.1</td>\n",
       "    </tr>\n",
       "    <tr>\n",
       "      <th>1</th>\n",
       "      <td>44.5</td>\n",
       "      <td>39.3</td>\n",
       "      <td>45.1</td>\n",
       "      <td>10.4</td>\n",
       "    </tr>\n",
       "    <tr>\n",
       "      <th>2</th>\n",
       "      <td>17.2</td>\n",
       "      <td>45.9</td>\n",
       "      <td>69.3</td>\n",
       "      <td>9.3</td>\n",
       "    </tr>\n",
       "    <tr>\n",
       "      <th>3</th>\n",
       "      <td>151.5</td>\n",
       "      <td>41.3</td>\n",
       "      <td>58.5</td>\n",
       "      <td>18.5</td>\n",
       "    </tr>\n",
       "    <tr>\n",
       "      <th>4</th>\n",
       "      <td>180.8</td>\n",
       "      <td>10.8</td>\n",
       "      <td>58.4</td>\n",
       "      <td>12.9</td>\n",
       "    </tr>\n",
       "  </tbody>\n",
       "</table>\n",
       "</div>"
      ],
      "text/plain": [
       "      TV  Radio  Newspaper  Sales\n",
       "0  230.1   37.8       69.2   22.1\n",
       "1   44.5   39.3       45.1   10.4\n",
       "2   17.2   45.9       69.3    9.3\n",
       "3  151.5   41.3       58.5   18.5\n",
       "4  180.8   10.8       58.4   12.9"
      ]
     },
     "execution_count": 5,
     "metadata": {},
     "output_type": "execute_result"
    }
   ],
   "source": [
    "adver.head()"
   ]
  },
  {
   "cell_type": "code",
   "execution_count": 32,
   "metadata": {},
   "outputs": [
    {
     "data": {
      "text/plain": [
       "(array([ 0.04576464,  0.1885251 , -0.00103629]), 2.9389674583301453)"
      ]
     },
     "execution_count": 32,
     "metadata": {},
     "output_type": "execute_result"
    }
   ],
   "source": [
    "from sklearn import linear_model\n",
    "ridge = linear_model.Ridge(alpha = 1) # create a ridge regression instance\n",
    "ridge.fit(x, y) # fit data\n",
    "ridge.coef_, ridge.intercept_ # print out the coefficients"
   ]
  },
  {
   "cell_type": "code",
   "execution_count": 33,
   "metadata": {},
   "outputs": [
    {
     "name": "stdout",
     "output_type": "stream",
     "text": [
      "The determination of ridge regression is: 0.8972\n"
     ]
    }
   ],
   "source": [
    "## determination\n",
    "print(\"The determination of ridge regression is: %.4f\" %ridge.score(x, y))"
   ]
  },
  {
   "cell_type": "code",
   "execution_count": 21,
   "metadata": {},
   "outputs": [
    {
     "data": {
      "text/plain": [
       "array([14.02149302])"
      ]
     },
     "execution_count": 21,
     "metadata": {},
     "output_type": "execute_result"
    }
   ],
   "source": [
    "## prediction \n",
    "ridge.predict([[5.2, 18.5, 3.7]])"
   ]
  },
  {
   "cell_type": "code",
   "execution_count": 18,
   "metadata": {},
   "outputs": [
    {
     "data": {
      "text/plain": [
       "array([3.40274109])"
      ]
     },
     "execution_count": 18,
     "metadata": {},
     "output_type": "execute_result"
    }
   ],
   "source": [
    "## prediction \n",
    "ridge.predict([[4, 1.5, 2]])"
   ]
  },
  {
   "cell_type": "code",
   "execution_count": 34,
   "metadata": {
    "collapsed": true
   },
   "outputs": [],
   "source": [
    "alpha_100 = np.logspace(0, 8, 100)\n",
    "coef = []\n",
    "for i in alpha_100:\n",
    "    ridge.set_params(alpha = i)\n",
    "    ridge.fit(x, y)\n",
    "    coef.append(ridge.coef_)\n"
   ]
  },
  {
   "cell_type": "code",
   "execution_count": 43,
   "metadata": {},
   "outputs": [
    {
     "data": {
      "image/png": "[encoded data removed]",
      "text/plain": [
       "<matplotlib.figure.Figure at 0x1a129c56d8>"
      ]
     },
     "metadata": {},
     "output_type": "display_data"
    }
   ],
   "source": [
    "df_coef = pd.DataFrame(coef, index=alpha_100, columns=['TV', 'Radio', 'Newspaper'])\n",
    "import matplotlib.pyplot as plt\n",
    "# title = 'Ridge coefficients as a function of the regularization'\n",
    "# axes.set_xlabel('alpha')\n",
    "# axes.set_ylabel('coefficients')\n",
    "axes = df_coef.plot(logx=True)\n",
    "plt.show()"
   ]
  },
  {
   "cell_type": "markdown",
   "metadata": {},
   "source": [
    "### Lasso Regression \n",
    "\n",
    "Lets recall the least squares again\n",
    "$$\\sum_{i=1}^{n} (y^{(i)} - \\beta_0 - \\sum_{j=1}^{k} \\beta_jx_j^{(i)})^2$$\n",
    "\n",
    "**Lasso regression** also adds a penalty to the OLS but it is a little bit different than ridge. The penalty **Lasso** uses is called norm1. In **Lasso** the penalty term $\\sum_{j=1}^{k}\\beta_j^2$ is replaced by $\\sum_{j=1}^{k}|\\beta_j|$, this also shrinks the coefficient estimates towards zero. The L1 penalty has the effect of forcing some of the coefficient estimates to be exactly equal to zero when the tuning parameter $\\lambda$ is sufficiently large. Hence lasso can be used for feature selection. As a result, models generated from the lasso are generally much easier to interpret than those produced by ridge regression.\n",
    "\n",
    "\n",
    "$$\\sum_{i=1}^{n} (y^{(i)} - \\beta_0 - \\sum_{j=1}^{k} \\beta_jx_j^{(i)})^2 + \\lambda \\sum_{j=1}^{k}|\\beta_j|$$"
   ]
  },
  {
   "cell_type": "markdown",
   "metadata": {},
   "source": [
    "### Lasso Regression in Scikit-Learn\n",
    "\n",
    "If you read the documentation of **Lasso Regression** in python, you will see the following:\n",
    "\n",
    "$$\\min_{\\theta} \\frac{1}{2n} \\parallel X\\theta - y \\parallel_2^2 + \\alpha | \\theta |_1$$\n",
    "\n",
    "Which in essense it's the same as the Lasso formula above, except they used $\\theta \\text{ and } \\alpha \\text{ in the place of } \\beta \\text{ and } \\lambda$. Also note that this function is in matrix notation. \n",
    "\n",
    "Implementing `Lasso` is similar to ridge regression:"
   ]
  },
  {
   "cell_type": "code",
   "execution_count": 44,
   "metadata": {},
   "outputs": [
    {
     "data": {
      "text/plain": [
       "(array([0.04566142, 0.1834644 , 0.        ]), 3.040215583480377)"
      ]
     },
     "execution_count": 44,
     "metadata": {},
     "output_type": "execute_result"
    }
   ],
   "source": [
    "## coefficients\n",
    "lasso = linear_model.Lasso(alpha=1) # create a lasso instance\n",
    "lasso.fit(x, y) # fit data\n",
    "lasso.coef_, lasso.intercept_ # print out the coefficients"
   ]
  },
  {
   "cell_type": "markdown",
   "metadata": {},
   "source": [
    "Note that the third coefficient is exactly 0!"
   ]
  },
  {
   "cell_type": "code",
   "execution_count": 45,
   "metadata": {},
   "outputs": [
    {
     "name": "stdout",
     "output_type": "stream",
     "text": [
      "The determination of ridge regression is: 0.8970\n"
     ]
    }
   ],
   "source": [
    "## determination\n",
    "print(\"The determination of ridge regression is: %.4f\" %lasso.score(x, y))"
   ]
  },
  {
   "cell_type": "code",
   "execution_count": 46,
   "metadata": {},
   "outputs": [
    {
     "data": {
      "text/plain": [
       "array([6.6717463])"
      ]
     },
     "execution_count": 46,
     "metadata": {},
     "output_type": "execute_result"
    }
   ],
   "source": [
    "## prediction\n",
    "lasso.predict([[5.2, 18.5, 3.7]])"
   ]
  },
  {
   "cell_type": "code",
   "execution_count": 47,
   "metadata": {},
   "outputs": [
    {
     "data": {
      "image/png": "[encoded data removed]",
      "text/plain": [
       "<matplotlib.figure.Figure at 0x1a12a4e278>"
      ]
     },
     "metadata": {},
     "output_type": "display_data"
    }
   ],
   "source": [
    "alphas_lasso = np.logspace(-2, 4, 100)\n",
    "coef_lasso = []\n",
    "for i in alphas_lasso:\n",
    "    lasso.set_params(alpha=i).fit(x, y)\n",
    "    coef_lasso.append(lasso.coef_)\n",
    "    \n",
    "columns = ['TV', 'Radio', 'Newspaper']\n",
    "df_coef = pd.DataFrame(coef_lasso, index=alphas_lasso, columns=columns)\n",
    "title = 'Lasso coefficients as a function of the regularization'\n",
    "df_coef.plot(logx=True, title=title)\n",
    "plt.xlabel('alpha')\n",
    "plt.ylabel('coefficients')\n",
    "plt.show()"
   ]
  },
  {
   "cell_type": "markdown",
   "metadata": {},
   "source": [
    "### Ridge and Lasso\n",
    "\n",
    "Both Ridge and Lasso can be applied in the same contexts. The big difference between these two is that Ridge can only shrink the slope very close to 0, while Lasso can shrink the slope all the way to 0. \n",
    "\n",
    "For example: If we had data with features that are useless, Ridge will only minimize the weight of those useless features while Lasso will totally drop them. \n",
    "\n",
    "Since Lasso can exclude variables from ecuations it is a little bit better than Ridge at reducing variance in models that contain a lot of useless variables. Ridge tends to do a little better when most features are useful.\n",
    "\n",
    "To sum up, Ridge and Lasso are very similar, the only difference is that Ridge squares the slope while Lasso takes the absolute value. In order to determine which approach is better we will need to use a technique called cross validation which we are already familiar with as it was part of notebook 4. To find out the appropiate Lambda we will need to use a technique called grid search which we will discuss in notebook 7. "
   ]
  },
  {
   "cell_type": "markdown",
   "metadata": {},
   "source": [
    "### ElasticNet in Scikit-Learn\n",
    "\n",
    "If you read the documentation of **ElasticNet** in python, you will see the following:\n",
    "\n",
    "$$\\min_{\\theta} \\frac{1}{2n} \\parallel X\\theta - y \\parallel_2^2 + \\alpha \\rho | \\theta |_1 + \\frac{\\alpha(1-\\rho)}{2} \\parallel \\theta \\parallel_2^2$$\n",
    "\n",
    "where $n$ refers to the number of observations, and $0 \\le \\rho \\le1$. Also note that this function is in matrix notation. \n",
    "\n",
    "- $\\alpha$ controls the effects of regularization.\n",
    "- $\\rho$ control the convex combination of L1 and L2. \n",
    "    - $\\rho = 0$ degenerates back to ridge regression\n",
    "    - $\\rho = 1$ degenerates back to lasso"
   ]
  },
  {
   "cell_type": "code",
   "execution_count": 50,
   "metadata": {},
   "outputs": [
    {
     "data": {
      "text/plain": [
       "(array([ 0.04570901,  0.18530658, -0.        ]), 2.990360061819066)"
      ]
     },
     "execution_count": 50,
     "metadata": {},
     "output_type": "execute_result"
    }
   ],
   "source": [
    "## coefficients\n",
    "elastic = linear_model.ElasticNet(alpha = 1, l1_ratio = 0.5)\n",
    "elastic.fit(x, y) # fit model\n",
    "elastic.coef_, elastic.intercept_ # coefficients"
   ]
  },
  {
   "cell_type": "code",
   "execution_count": 51,
   "metadata": {},
   "outputs": [
    {
     "name": "stdout",
     "output_type": "stream",
     "text": [
      "The determination of ElasticNet is: 0.8971\n"
     ]
    }
   ],
   "source": [
    "## determination\n",
    "print(\"The determination of ElasticNet is: %.4f\" %elastic.score(x, y))"
   ]
  },
  {
   "cell_type": "code",
   "execution_count": 52,
   "metadata": {},
   "outputs": [
    {
     "data": {
      "text/plain": [
       "array([6.65621868])"
      ]
     },
     "execution_count": 52,
     "metadata": {},
     "output_type": "execute_result"
    }
   ],
   "source": [
    "## prediction\n",
    "elastic.predict([[5.2, 18.5, 3.7]])"
   ]
  },
  {
   "cell_type": "code",
   "execution_count": 53,
   "metadata": {},
   "outputs": [
    {
     "data": {
      "image/png": "[encoded data removed]",
      "text/plain": [
       "<matplotlib.figure.Figure at 0x1a12784748>"
      ]
     },
     "metadata": {},
     "output_type": "display_data"
    }
   ],
   "source": [
    "alphas_elastic = np.logspace(-2, 4, 1000)\n",
    "coef_elastic = []\n",
    "for i in alphas_elastic:\n",
    "    elastic = linear_model.ElasticNet(l1_ratio =0.5)\n",
    "    elastic.set_params(alpha = i)\n",
    "    elastic.fit(x, y)\n",
    "    coef_elastic.append(elastic.coef_)\n",
    "    \n",
    "columns = ['TV', 'Radio', 'Newspaper']\n",
    "df_coef = pd.DataFrame(coef_elastic, index=alphas_elastic, columns=columns)\n",
    "title = 'Lasso coefficients as a function of the regularization'\n",
    "df_coef.plot(logx=True, title=title)\n",
    "plt.xlabel('alpha')\n",
    "plt.ylabel('coefficients')\n",
    "plt.show()"
   ]
  }
 ],
 "metadata": {
  "kernelspec": {
   "display_name": "Python 3",
   "language": "python",
   "name": "python3"
  },
  "language_info": {
   "codemirror_mode": {
    "name": "ipython",
    "version": 3
   },
   "file_extension": ".py",
   "mimetype": "text/x-python",
   "name": "python",
   "nbconvert_exporter": "python",
   "pygments_lexer": "ipython3",
   "version": "3.6.3"
  }
 },
 "nbformat": 4,
 "nbformat_minor": 2
}
