{
 "cells": [
  {
   "cell_type": "markdown",
   "metadata": {},
   "source": [
    "# Sets"
   ]
  },
  {
   "cell_type": "markdown",
   "metadata": {},
   "source": [
    "## Introduction"
   ]
  },
  {
   "cell_type": "markdown",
   "metadata": {},
   "source": [
    "Now that we have seen lists and tuples it's time to introduce another data structure. The set. A set is an unordered collection of unique elements. Sets are mutable. "
   ]
  },
  {
   "cell_type": "markdown",
   "metadata": {},
   "source": [
    "Sets are useful when working with data were the order or frequency of the elements do not matter. Searching for an element in a set is a lot faster than in a list. Sets are very helpful if we are dealing with massive amounts of data, for example if we are data mining. Lets work an example on how much faster sets search for elements than lists.  "
   ]
  },
  {
   "cell_type": "markdown",
   "metadata": {},
   "source": [
    "Lets create a list and a set of the integers from one through one million."
   ]
  },
  {
   "cell_type": "code",
   "execution_count": 101,
   "metadata": {
    "collapsed": true
   },
   "outputs": [],
   "source": [
    "this_list = range(1000000)\n",
    "this_set = set(this_list)"
   ]
  },
  {
   "cell_type": "markdown",
   "metadata": {},
   "source": [
    "Now, lets lets use a for loop to search for the number one hundred in our list and our set ten million times using the in operator (which we will see later in the lecture). We do not want the functions to return anything to us, we just want it to do the tasks to see how long it will take for both of them to complete. "
   ]
  },
  {
   "cell_type": "code",
   "execution_count": 96,
   "metadata": {
    "collapsed": true
   },
   "outputs": [],
   "source": [
    "for number in range(10000000):\n",
    "    found = 100 in this_list"
   ]
  },
  {
   "cell_type": "markdown",
   "metadata": {},
   "source": [
    "In my computer this operation with a list took five seconds, now lets see how long it takes for a set to do the same thing."
   ]
  },
  {
   "cell_type": "code",
   "execution_count": 97,
   "metadata": {
    "collapsed": true
   },
   "outputs": [],
   "source": [
    "for number in range(10000000):\n",
    "    found = 100 in this_set"
   ]
  },
  {
   "cell_type": "markdown",
   "metadata": {},
   "source": [
    "In my computer this operation took less than one second. As espected, to show how for this task, using a set is less expensive. "
   ]
  },
  {
   "cell_type": "markdown",
   "metadata": {},
   "source": [
    "### Now lets get into the lecture"
   ]
  },
  {
   "cell_type": "markdown",
   "metadata": {},
   "source": [
    "There are two ways to create a set. Using the set() function and using curly brackets."
   ]
  },
  {
   "cell_type": "code",
   "execution_count": 102,
   "metadata": {
    "collapsed": true
   },
   "outputs": [],
   "source": [
    "set_one = set()\n",
    "set_two = {}\n",
    "print(set_one)\n",
    "print(set_two)"
   ]
  },
  {
   "cell_type": "markdown",
   "metadata": {},
   "source": [
    "If we check the type (using the type() function) of our two new sets, we will encountewr something strange."
   ]
  },
  {
   "cell_type": "code",
   "execution_count": 103,
   "metadata": {
    "collapsed": true
   },
   "outputs": [],
   "source": [
    "print(type(set_one))\n",
    "print(type(set_two))"
   ]
  },
  {
   "cell_type": "markdown",
   "metadata": {},
   "source": [
    "Our set_two variable is not a set, it's a dictionary. When we assign empty curly brackets to a variable, Python immediately assumes that it's an empty dictionary. If we want to create a set with curly brackets we will have to add elements to it to begin with. This way, when Python reads it, it will notice that the elements are not in a Key/Value structure (dictionary) but independent elements so it will read it as a set. lets rename our set_two variable to make sure it is a set."
   ]
  },
  {
   "cell_type": "code",
   "execution_count": 104,
   "metadata": {
    "collapsed": true
   },
   "outputs": [],
   "source": [
    "set_two = {2, 4, 'Hello'}\n",
    "print(set_two)\n",
    "print(type(set_two))"
   ]
  },
  {
   "cell_type": "markdown",
   "metadata": {},
   "source": [
    "Now that we know that our set_two variable is a set, we notice something odd. When we print set_two, Python does not print the elements in the same order as we originally inputted them. Do not worry about this, as previously mentioned, in sets, the order does not matter."
   ]
  },
  {
   "cell_type": "markdown",
   "metadata": {},
   "source": [
    "If we want to use the set() function to create a new set and give elements to that set to begin with, we must use square brackets inside the parentheses. If we do not use the square brackets, Python will raise an error."
   ]
  },
  {
   "cell_type": "code",
   "execution_count": 105,
   "metadata": {
    "collapsed": true
   },
   "outputs": [],
   "source": [
    "set_three = set(1, 4, 'Hello', 9.0)"
   ]
  },
  {
   "cell_type": "code",
   "execution_count": 56,
   "metadata": {
    "collapsed": true
   },
   "outputs": [],
   "source": [
    "set_three = set([1, 4, 'Hello', 9.0])"
   ]
  },
  {
   "cell_type": "code",
   "execution_count": 106,
   "metadata": {
    "collapsed": true
   },
   "outputs": [],
   "source": [
    "set_three"
   ]
  },
  {
   "cell_type": "markdown",
   "metadata": {},
   "source": [
    "Transforming a list into a set. Note that in my_list the integers 1, 2 & 3 appear twice and that is absolutely fine for a list. What happens when we transform that list into a set? "
   ]
  },
  {
   "cell_type": "code",
   "execution_count": 107,
   "metadata": {
    "collapsed": true
   },
   "outputs": [],
   "source": [
    "my_list = [1, 2, 1, 3, 4, 2, 8, 3]"
   ]
  },
  {
   "cell_type": "code",
   "execution_count": 109,
   "metadata": {
    "collapsed": true
   },
   "outputs": [],
   "source": [
    "my_list"
   ]
  },
  {
   "cell_type": "code",
   "execution_count": 91,
   "metadata": {
    "collapsed": true
   },
   "outputs": [],
   "source": [
    "list_to_set = set(my_list)"
   ]
  },
  {
   "cell_type": "code",
   "execution_count": 110,
   "metadata": {
    "collapsed": true
   },
   "outputs": [],
   "source": [
    "list_to_set"
   ]
  },
  {
   "cell_type": "markdown",
   "metadata": {},
   "source": [
    "Sets do not support indexing, lets try it on our set list_to_set. Python will raise an error. "
   ]
  },
  {
   "cell_type": "code",
   "execution_count": 111,
   "metadata": {
    "collapsed": true
   },
   "outputs": [],
   "source": [
    "list_to_set[2]"
   ]
  },
  {
   "cell_type": "markdown",
   "metadata": {},
   "source": [
    "## Adding and removing elements from a set"
   ]
  },
  {
   "cell_type": "markdown",
   "metadata": {},
   "source": [
    "Lets create an empty set called my_set and use the dir() function to see a list of methods that can be used on sets."
   ]
  },
  {
   "cell_type": "code",
   "execution_count": 65,
   "metadata": {
    "collapsed": true
   },
   "outputs": [],
   "source": [
    "my_set= set()\n",
    "dir(my_set)"
   ]
  },
  {
   "cell_type": "markdown",
   "metadata": {},
   "source": [
    "To see how to use any of the methods above use the help() function."
   ]
  },
  {
   "cell_type": "code",
   "execution_count": 112,
   "metadata": {
    "collapsed": true
   },
   "outputs": [],
   "source": [
    "help(my_set.add)"
   ]
  },
  {
   "cell_type": "markdown",
   "metadata": {},
   "source": [
    "The help text provides a reminder of the deffinition of a set, duplicates are not stored. If you try to add the same element twice, Python will store the first time and ignore the second attempt."
   ]
  },
  {
   "cell_type": "markdown",
   "metadata": {},
   "source": [
    "### Adding "
   ]
  },
  {
   "cell_type": "markdown",
   "metadata": {},
   "source": [
    "Lets use the add() method to add elements to our empty set my_set. Lets add an integer, a boolean, a float and a string. Note that you can add data of different types to the same set."
   ]
  },
  {
   "cell_type": "code",
   "execution_count": 114,
   "metadata": {
    "collapsed": true
   },
   "outputs": [],
   "source": [
    "my_set.add(8)\n",
    "my_set.add(True)\n",
    "my_set.add(3.14)\n",
    "my_set.add('Hello')\n",
    "my_set"
   ]
  },
  {
   "cell_type": "markdown",
   "metadata": {},
   "source": [
    "As mentioned, a set will not allow duplicates. Lets confirm that. "
   ]
  },
  {
   "cell_type": "code",
   "execution_count": 115,
   "metadata": {
    "collapsed": true
   },
   "outputs": [],
   "source": [
    "my_set.add(9)\n",
    "my_set.add(9)\n",
    "my_set.add(9)\n",
    "my_set"
   ]
  },
  {
   "cell_type": "markdown",
   "metadata": {},
   "source": [
    "Use the len() function to check how many elements our set has."
   ]
  },
  {
   "cell_type": "code",
   "execution_count": 116,
   "metadata": {
    "collapsed": true
   },
   "outputs": [],
   "source": [
    "len(my_set)"
   ]
  },
  {
   "cell_type": "markdown",
   "metadata": {},
   "source": [
    "### Removing"
   ]
  },
  {
   "cell_type": "markdown",
   "metadata": {},
   "source": [
    "Lets try to remove an element from our set. If the element we are trying to remove it's not a member of our set, Python will raise an Error as it descrives when we use the help() function."
   ]
  },
  {
   "cell_type": "code",
   "execution_count": 117,
   "metadata": {
    "collapsed": true
   },
   "outputs": [],
   "source": [
    "help(my_set.remove)"
   ]
  },
  {
   "cell_type": "markdown",
   "metadata": {},
   "source": [
    "Lets recal our set"
   ]
  },
  {
   "cell_type": "code",
   "execution_count": 119,
   "metadata": {
    "collapsed": true
   },
   "outputs": [],
   "source": [
    "my_set"
   ]
  },
  {
   "cell_type": "markdown",
   "metadata": {},
   "source": [
    "Lets remove the string 'Hello'. We can check if it worked either by looking at the number of elemnets in our set using the len() function or by displaying all the elements inside the set. "
   ]
  },
  {
   "cell_type": "code",
   "execution_count": 121,
   "metadata": {
    "collapsed": true
   },
   "outputs": [],
   "source": [
    "my_set.remove('Hello')\n",
    "print(len(my_set))\n",
    "print(my_set)"
   ]
  },
  {
   "cell_type": "markdown",
   "metadata": {},
   "source": [
    "What if we try to remove the boolean False which is not in our set? lets see what happens."
   ]
  },
  {
   "cell_type": "code",
   "execution_count": 122,
   "metadata": {
    "collapsed": true
   },
   "outputs": [],
   "source": [
    "my_set.remove(False)"
   ]
  },
  {
   "cell_type": "markdown",
   "metadata": {},
   "source": [
    "There is another way to delete elements from a set, using the discard() method. The discard() method has all the attributes of the remove() method except when we try to remove an element that it's not a member of the set. The discard() method will do nothing, will not raise an error as opposed to the remove() method. "
   ]
  },
  {
   "cell_type": "code",
   "execution_count": 52,
   "metadata": {
    "collapsed": true
   },
   "outputs": [],
   "source": [
    "my_set.discard(False)"
   ]
  },
  {
   "cell_type": "code",
   "execution_count": 123,
   "metadata": {
    "collapsed": true
   },
   "outputs": [],
   "source": [
    "my_set"
   ]
  },
  {
   "cell_type": "markdown",
   "metadata": {},
   "source": [
    "If we want to clear our set we can use the clear() method, this method will leave our set with 0 elements. "
   ]
  },
  {
   "cell_type": "code",
   "execution_count": 124,
   "metadata": {
    "collapsed": true
   },
   "outputs": [],
   "source": [
    "my_set.clear()\n",
    "print(len(my_set))\n",
    "print(my_set)"
   ]
  },
  {
   "cell_type": "markdown",
   "metadata": {},
   "source": [
    "## The in operator"
   ]
  },
  {
   "cell_type": "markdown",
   "metadata": {},
   "source": [
    "If we wish to know if an element is a member of a set we can use the in operator. By using the in operator Python will return to us a boolean to let us know if that statement is True or False. Lets create a new set, add some values and test the in operator."
   ]
  },
  {
   "cell_type": "code",
   "execution_count": 125,
   "metadata": {
    "collapsed": true
   },
   "outputs": [],
   "source": [
    "new_set = set()\n",
    "new_set.add(10)\n",
    "new_set.add(False)\n",
    "new_set.add(2018)\n",
    "new_set.add('Bye')\n",
    "new_set"
   ]
  },
  {
   "cell_type": "code",
   "execution_count": 126,
   "metadata": {
    "collapsed": true
   },
   "outputs": [],
   "source": [
    "10 in new_set"
   ]
  },
  {
   "cell_type": "code",
   "execution_count": 127,
   "metadata": {
    "collapsed": true
   },
   "outputs": [],
   "source": [
    "1 in new_set"
   ]
  },
  {
   "cell_type": "markdown",
   "metadata": {},
   "source": [
    "We can also check if an element is not a member of a set by adding the not operator before the in operator in the statement."
   ]
  },
  {
   "cell_type": "code",
   "execution_count": 128,
   "metadata": {
    "collapsed": true
   },
   "outputs": [],
   "source": [
    "False not in new_set"
   ]
  },
  {
   "cell_type": "code",
   "execution_count": 129,
   "metadata": {
    "collapsed": true
   },
   "outputs": [],
   "source": [
    "True not in new_set"
   ]
  },
  {
   "cell_type": "markdown",
   "metadata": {},
   "source": [
    "## Union, intersection, difference and symmetric difference of sets"
   ]
  },
  {
   "cell_type": "markdown",
   "metadata": {},
   "source": [
    "We can use mathematical operations on sets such as union, intersection, difference and symmetric difference. "
   ]
  },
  {
   "cell_type": "markdown",
   "metadata": {},
   "source": [
    "Lets create a few sets that will help us with this part of the lecture, we will use the integers from one through ten."
   ]
  },
  {
   "cell_type": "code",
   "execution_count": 131,
   "metadata": {
    "collapsed": true
   },
   "outputs": [],
   "source": [
    "odds = set([1,3,5,7,9])\n",
    "even = set([2,4,6,8,10])\n",
    "prime = set([2,3,5,7])"
   ]
  },
  {
   "cell_type": "markdown",
   "metadata": {},
   "source": [
    "### Union"
   ]
  },
  {
   "cell_type": "markdown",
   "metadata": {},
   "source": [
    "The union of two sets is the combination of all elements from both sets. For the union we will use (|). Order does not matter for this operation."
   ]
  },
  {
   "cell_type": "markdown",
   "metadata": {},
   "source": [
    "<img class=\"rg_ic rg_i\" id=\"YaXE3a8mQiFJfM:\" jsaction=\"load:str.tbn\" alt=\"Image result for union venn diagrams\" onload=\"typeof google==='object'&amp;&amp;google.aft&amp;&amp;google.aft(this)\" style=\"width: 209px; height: 157px; margin-left: 0px; margin-right: 0px; margin-top: 0px;\" src=\"data:image/png;base64,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\">"
   ]
  },
  {
   "cell_type": "code",
   "execution_count": 132,
   "metadata": {
    "collapsed": true
   },
   "outputs": [],
   "source": [
    "odds | even"
   ]
  },
  {
   "cell_type": "code",
   "execution_count": 133,
   "metadata": {
    "collapsed": true
   },
   "outputs": [],
   "source": [
    "even | odds"
   ]
  },
  {
   "cell_type": "markdown",
   "metadata": {},
   "source": [
    "### Intersection "
   ]
  },
  {
   "cell_type": "markdown",
   "metadata": {},
   "source": [
    "The intersection of two sets is the set of only the elements shared by the two sets. For the intersection we will use (&). Order does not matter for this operation."
   ]
  },
  {
   "cell_type": "markdown",
   "metadata": {},
   "source": [
    "<img class=\"rg_ic rg_i\" id=\"Z4hoQzB-_8DBdM:\" jsaction=\"load:str.tbn\" alt=\"Image result for intersection venn diagrams\" onload=\"typeof google==='object'&amp;&amp;google.aft&amp;&amp;google.aft(this)\" style=\"width: 235px; height: 176px; margin-left: 0px; margin-right: 0px; margin-top: 0px;\" src=\"data:image/png;base64,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\">"
   ]
  },
  {
   "cell_type": "code",
   "execution_count": 134,
   "metadata": {
    "collapsed": true
   },
   "outputs": [],
   "source": [
    "odds & prime"
   ]
  },
  {
   "cell_type": "code",
   "execution_count": 135,
   "metadata": {
    "collapsed": true
   },
   "outputs": [],
   "source": [
    "prime & odds"
   ]
  },
  {
   "cell_type": "markdown",
   "metadata": {},
   "source": [
    "If we use the same sets we used for the union example in this intersection example, what do you think will happen?"
   ]
  },
  {
   "cell_type": "code",
   "execution_count": 136,
   "metadata": {
    "collapsed": true
   },
   "outputs": [],
   "source": [
    "odds & even"
   ]
  },
  {
   "cell_type": "code",
   "execution_count": 137,
   "metadata": {
    "collapsed": true
   },
   "outputs": [],
   "source": [
    "even & odds"
   ]
  },
  {
   "cell_type": "markdown",
   "metadata": {},
   "source": [
    "### Difference"
   ]
  },
  {
   "cell_type": "markdown",
   "metadata": {},
   "source": [
    "When we look for the difference of two sets, we are asking Python to return to us a set that contains all the elements of the first set with out the elements shared with the second set. In this case order does matter. For the difference we will use (-)."
   ]
  },
  {
   "cell_type": "markdown",
   "metadata": {},
   "source": [
    "<img class=\"rg_ic rg_i\" id=\"3DVknd4U-hCdrM:\" jsaction=\"load:str.tbn\" alt=\"Image result for symmetric difference venn diagrams\" onload=\"typeof google==='object'&amp;&amp;google.aft&amp;&amp;google.aft(this)\" style=\"width: 227px; height: 170px; margin-left: 0px; margin-right: 0px; margin-top: 0px;\" src=\"data:image/png;base64,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\">"
   ]
  },
  {
   "cell_type": "code",
   "execution_count": 138,
   "metadata": {
    "collapsed": true
   },
   "outputs": [],
   "source": [
    "odds - prime"
   ]
  },
  {
   "cell_type": "code",
   "execution_count": 139,
   "metadata": {
    "collapsed": true
   },
   "outputs": [],
   "source": [
    "prime - odds"
   ]
  },
  {
   "cell_type": "markdown",
   "metadata": {},
   "source": [
    "### Symmetric difference"
   ]
  },
  {
   "cell_type": "markdown",
   "metadata": {},
   "source": [
    "Logically we can think of the symmetric difference of sets A and B as (A - B | B - A). It is all the elements from set A that are not shared with set B united with all the elements of set B that are not shared with set A. for symetric difference we will use (^). Order does not matter for this operation."
   ]
  },
  {
   "cell_type": "markdown",
   "metadata": {},
   "source": [
    "<img class=\"rg_ic rg_i\" id=\"2PonR-zpGT0LaM:\" jsaction=\"load:str.tbn\" alt=\"Image result for symmetric difference venn diagram\" onload=\"typeof google==='object'&amp;&amp;google.aft&amp;&amp;google.aft(this)\" style=\"width: 219px; height: 177px; margin-left: -16px; margin-right: -5px; margin-top: 0px;\" src=\"data:image/png;base64,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\">"
   ]
  },
  {
   "cell_type": "code",
   "execution_count": 140,
   "metadata": {
    "collapsed": true
   },
   "outputs": [],
   "source": [
    "even ^ prime"
   ]
  },
  {
   "cell_type": "code",
   "execution_count": 141,
   "metadata": {
    "collapsed": true
   },
   "outputs": [],
   "source": [
    "prime ^ even"
   ]
  },
  {
   "cell_type": "markdown",
   "metadata": {},
   "source": [
    "If we use the same sets we used for the union example in this symetric difference example, what do you think will happen?"
   ]
  },
  {
   "cell_type": "code",
   "execution_count": 142,
   "metadata": {
    "collapsed": true
   },
   "outputs": [],
   "source": [
    "even ^ odds"
   ]
  },
  {
   "cell_type": "code",
   "execution_count": 143,
   "metadata": {
    "collapsed": true
   },
   "outputs": [],
   "source": [
    "odds ^ even "
   ]
  },
  {
   "cell_type": "markdown",
   "metadata": {},
   "source": [
    "### Summary"
   ]
  },
  {
   "cell_type": "markdown",
   "metadata": {},
   "source": [
    "In this lecture we introduced sets and explained how sets are a very powerful data structure that can be used when dealing with large amounts of data. Using sets we can find elements faster than in a list. Sets are unordered collections of unique elements. Sets are mutable which means that we can add and erase elements from it. We can use mathematical operations on sets like union, intersection, difference and symmetrical difference. "
   ]
  }
 ],
 "metadata": {
  "kernelspec": {
   "display_name": "Python 3",
   "language": "python",
   "name": "python3"
  },
  "language_info": {
   "codemirror_mode": {
    "name": "ipython",
    "version": 3
   },
   "file_extension": ".py",
   "mimetype": "text/x-python",
   "name": "python",
   "nbconvert_exporter": "python",
   "pygments_lexer": "ipython3",
   "version": "3.6.3"
  }
 },
 "nbformat": 4,
 "nbformat_minor": 2
}
