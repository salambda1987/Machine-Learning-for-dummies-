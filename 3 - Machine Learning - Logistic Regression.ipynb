{
 "cells": [
  {
   "cell_type": "markdown",
   "metadata": {},
   "source": [
    "# Python Machine Learning 3\n",
    "\n",
    "# Logistic Regression\n",
    "\n",
    "## *By Sal Lascano*"
   ]
  },
  {
   "cell_type": "markdown",
   "metadata": {},
   "source": [
    "Logistoic regression is a linear model for classification, not a regression despitre its name. In classification, given a feature or sets of features, we want to predict cathegorical outputs. For example:<br>\n",
    "- Tumor (Malignant, benign)<br>\n",
    "- Blood Type (A, B, AB, O)\n",
    "\n",
    "The idea of Logistic Regression is to transform our linear function $\\beta_0 + \\beta_1X$ using the sigmoid function, so that no matter what values $\\beta_0 + \\beta_1X$ have, the outcome will always be between 0 and 1. "
   ]
  },
  {
   "cell_type": "markdown",
   "metadata": {},
   "source": [
    "Before we dive into Logistic regression, there are a few things we need to familiarize with. Lets start with an example. Load the data set of size of tumors and if the are malignant or not. In this data set 0 represents non malignant and 1 represents malignant. "
   ]
  },
  {
   "cell_type": "markdown",
   "metadata": {},
   "source": [
    "# Need Assumptions!!!!!!!!!!!\n"
   ]
  },
  {
   "cell_type": "code",
   "execution_count": null,
   "metadata": {
    "collapsed": true
   },
   "outputs": [],
   "source": []
  },
  {
   "cell_type": "code",
   "execution_count": 20,
   "metadata": {},
   "outputs": [
    {
     "name": "stdout",
     "output_type": "stream",
     "text": [
      "(12, 2)\n"
     ]
    },
    {
     "data": {
      "text/html": [
       "<div>\n",
       "<style scoped>\n",
       "    .dataframe tbody tr th:only-of-type {\n",
       "        vertical-align: middle;\n",
       "    }\n",
       "\n",
       "    .dataframe tbody tr th {\n",
       "        vertical-align: top;\n",
       "    }\n",
       "\n",
       "    .dataframe thead th {\n",
       "        text-align: right;\n",
       "    }\n",
       "</style>\n",
       "<table border=\"1\" class=\"dataframe\">\n",
       "  <thead>\n",
       "    <tr style=\"text-align: right;\">\n",
       "      <th></th>\n",
       "      <th>Size</th>\n",
       "      <th>Malignant</th>\n",
       "    </tr>\n",
       "  </thead>\n",
       "  <tbody>\n",
       "    <tr>\n",
       "      <th>0</th>\n",
       "      <td>3.788628</td>\n",
       "      <td>0</td>\n",
       "    </tr>\n",
       "    <tr>\n",
       "      <th>1</th>\n",
       "      <td>2.436510</td>\n",
       "      <td>0</td>\n",
       "    </tr>\n",
       "    <tr>\n",
       "      <th>2</th>\n",
       "      <td>2.096497</td>\n",
       "      <td>0</td>\n",
       "    </tr>\n",
       "    <tr>\n",
       "      <th>3</th>\n",
       "      <td>0.136507</td>\n",
       "      <td>0</td>\n",
       "    </tr>\n",
       "    <tr>\n",
       "      <th>4</th>\n",
       "      <td>1.722612</td>\n",
       "      <td>0</td>\n",
       "    </tr>\n",
       "    <tr>\n",
       "      <th>5</th>\n",
       "      <td>1.645241</td>\n",
       "      <td>0</td>\n",
       "    </tr>\n",
       "    <tr>\n",
       "      <th>6</th>\n",
       "      <td>4.917259</td>\n",
       "      <td>1</td>\n",
       "    </tr>\n",
       "    <tr>\n",
       "      <th>7</th>\n",
       "      <td>4.372999</td>\n",
       "      <td>1</td>\n",
       "    </tr>\n",
       "    <tr>\n",
       "      <th>8</th>\n",
       "      <td>4.956182</td>\n",
       "      <td>1</td>\n",
       "    </tr>\n",
       "    <tr>\n",
       "      <th>9</th>\n",
       "      <td>4.522782</td>\n",
       "      <td>1</td>\n",
       "    </tr>\n",
       "    <tr>\n",
       "      <th>10</th>\n",
       "      <td>3.686135</td>\n",
       "      <td>1</td>\n",
       "    </tr>\n",
       "    <tr>\n",
       "      <th>11</th>\n",
       "      <td>5.884622</td>\n",
       "      <td>1</td>\n",
       "    </tr>\n",
       "  </tbody>\n",
       "</table>\n",
       "</div>"
      ],
      "text/plain": [
       "        Size  Malignant\n",
       "0   3.788628          0\n",
       "1   2.436510          0\n",
       "2   2.096497          0\n",
       "3   0.136507          0\n",
       "4   1.722612          0\n",
       "5   1.645241          0\n",
       "6   4.917259          1\n",
       "7   4.372999          1\n",
       "8   4.956182          1\n",
       "9   4.522782          1\n",
       "10  3.686135          1\n",
       "11  5.884622          1"
      ]
     },
     "execution_count": 20,
     "metadata": {},
     "output_type": "execute_result"
    }
   ],
   "source": [
    "# We need Pandas to bring in the data lets import it\n",
    "import pandas as pd\n",
    "\n",
    "# the csv file is in desktop so below is the path\n",
    "path_to_file = \"pml2tumor.csv\"\n",
    "\n",
    "# Now we create a variable which will have our data\n",
    "data = pd.read_csv(path_to_file)\n",
    "\n",
    "# lets see how big our data is \n",
    "print(data.shape) # not so big but that will do for now\n",
    "\n",
    "# now lets see the actual data\n",
    "data"
   ]
  },
  {
   "cell_type": "markdown",
   "metadata": {},
   "source": [
    "Lets visualize our data, to have a better idea of what we are dealing with"
   ]
  },
  {
   "cell_type": "code",
   "execution_count": 22,
   "metadata": {},
   "outputs": [
    {
     "data": {
      "image/png": "[encoded data removed]",
      "text/plain": [
       "<matplotlib.figure.Figure at 0x112b8a2b0>"
      ]
     },
     "metadata": {},
     "output_type": "display_data"
    }
   ],
   "source": [
    "# Import all of out necesary packages\n",
    "%matplotlib inline\n",
    "import matplotlib.pyplot as plt\n",
    "\n",
    "# Set the size of the graph\n",
    "plt.figure(figsize=(15, 7))\n",
    "\n",
    "# Assign our X and Y axis\n",
    "plt.scatter(data['Size'], data['Malignant'])\n",
    "\n",
    "# Add labels\n",
    "plt.ylabel('Malignant?')\n",
    "plt.xlabel('Size')\n",
    "\n",
    "#Show me the plot\n",
    "plt.show()"
   ]
  },
  {
   "cell_type": "markdown",
   "metadata": {},
   "source": [
    "The first thing that comes to my mind is that this violates a very important assumption of Linear Regression, Lineariry. With no linearity it would be silly to try and use a line to model the relationship of these two variables. "
   ]
  },
  {
   "cell_type": "markdown",
   "metadata": {},
   "source": [
    "### Sigmoid Function\n",
    "\n",
    "A Sigmoid function is a mathematical function which has the caracteristics of a sogmoid curve or S shape. it is defined by the formula:<br>\n",
    "\n",
    "$$\n",
    "S(t)=\\frac{e^t}{1+e^t}=\\frac{1}{1+e^{-t}}\n",
    "$$\n",
    "\n",
    "The Sigmoid function has a finite limit of 0 as X approaches negative infinity and 1 as X aproaches possitive infinity. It is a monotonically smooth increassing function which bounds any value to a value bounded between 0 and 1. \n",
    "\n",
    "Lets plot a sigmoid function."
   ]
  },
  {
   "cell_type": "code",
   "execution_count": 47,
   "metadata": {
    "collapsed": true
   },
   "outputs": [],
   "source": [
    "import math\n",
    "import numpy as np \n",
    "def sigmoid(x):\n",
    "    a = []\n",
    "    for item in x:\n",
    "        a.append(1/(1 + math.exp(-item)))\n",
    "    return a"
   ]
  },
  {
   "cell_type": "code",
   "execution_count": 48,
   "metadata": {},
   "outputs": [
    {
     "name": "stdout",
     "output_type": "stream",
     "text": [
      "[-10.   -9.8  -9.6  -9.4  -9.2  -9.   -8.8  -8.6  -8.4  -8.2  -8.   -7.8\n",
      "  -7.6  -7.4  -7.2  -7.   -6.8  -6.6  -6.4  -6.2  -6.   -5.8  -5.6  -5.4\n",
      "  -5.2  -5.   -4.8  -4.6  -4.4  -4.2  -4.   -3.8  -3.6  -3.4  -3.2  -3.\n",
      "  -2.8  -2.6  -2.4  -2.2  -2.   -1.8  -1.6  -1.4  -1.2  -1.   -0.8  -0.6\n",
      "  -0.4  -0.2  -0.    0.2   0.4   0.6   0.8   1.    1.2   1.4   1.6   1.8\n",
      "   2.    2.2   2.4   2.6   2.8   3.    3.2   3.4   3.6   3.8   4.    4.2\n",
      "   4.4   4.6   4.8   5.    5.2   5.4   5.6   5.8   6.    6.2   6.4   6.6\n",
      "   6.8   7.    7.2   7.4   7.6   7.8   8.    8.2   8.4   8.6   8.8   9.\n",
      "   9.2   9.4   9.6   9.8]\n"
     ]
    }
   ],
   "source": [
    "x = np.arange(-10., 10., 0.2)\n",
    "print(np.round(x,decimals=1))\n",
    "y = sigmoid(x)"
   ]
  },
  {
   "cell_type": "code",
   "execution_count": 49,
   "metadata": {},
   "outputs": [
    {
     "data": {
      "image/png": "[encoded data removed]",
      "text/plain": [
       "<matplotlib.figure.Figure at 0x113238550>"
      ]
     },
     "metadata": {},
     "output_type": "display_data"
    }
   ],
   "source": [
    "# Set the size of the graph\n",
    "plt.figure(figsize=(15, 7))\n",
    "\n",
    "plt.plot(x, y)\n",
    "plt.show()"
   ]
  },
  {
   "cell_type": "markdown",
   "metadata": {},
   "source": [
    "\n",
    "### Eulers number"
   ]
  },
  {
   "cell_type": "markdown",
   "metadata": {
    "collapsed": true
   },
   "source": [
    "Euler's number is one of the most famous and important mathematical constants. \n",
    "\n",
    "$$\n",
    "e = 2.7182...\n",
    "$$\n",
    "\n",
    "Euler's number is a. mathematical constant that is related to growth and rate of change. \n",
    "\n",
    "But why is Euler's number related to change? Lets look at the original problem where $e$ was first used:\n",
    "\n",
    "Going back to the 17th century Jacob Bernulli was interested in compound interest. Lets say that you have one dollar in your bank\n",
    "\n",
    "**\\$1**\n",
    "\n",
    "\n",
    "This is a very generous bank, they offer you 100% intrest every year so 12 months from now you will have two dollars\n",
    "\n",
    "\n",
    "**\\$1 ---> \\$2**\n",
    "\n",
    "\n",
    "What if they offer you 50% interest every six months, is that better or worse? So we start with one dollar, 50% of that is \\$.50 so after six months you have $1.50. 50% of \\$1.50 is \\$75 so by the 12th month you have $2.25\n",
    "\n",
    "\n",
    "**\\$1 ---> \\$1.50 ---> \\$2.25 (it is better)**\n",
    "\n"
   ]
  },
  {
   "cell_type": "markdown",
   "metadata": {},
   "source": [
    "So what happens if we do this more regularly? what happens if we do it every month? The bank is offering you 1/12 interest every month, is that better? the formula to solve this is the fallowing\n",
    "$$\n",
    "(1 + \\frac{1}{n})^n\n",
    "$$"
   ]
  },
  {
   "cell_type": "markdown",
   "metadata": {},
   "source": [
    "In this case $n$ is equal to 12, one for every month\n",
    "\n",
    "\n",
    "$$\n",
    "(1 + \\frac{1}{12})^{12} = 2.61\n",
    "$$\n",
    "\n",
    "\n",
    "It is a lot better, what about if we do it every week? \n",
    "\n",
    "\n",
    "$$\n",
    "(1 + \\frac{1}{52})^{52} = 2.69\n",
    "$$\n",
    "\n",
    "\n",
    "It gets better, what about every day?\n",
    "\n",
    "\n",
    "$$\n",
    "(1 + \\frac{1}{365})^{365} = 2.71\n",
    "$$\n",
    "\n",
    "We see that it gets better and better the more frequent we do it, Now what about if we did it continiously? every instamce, continious intrest as n goes to infinity. Bernulli did not accomplished to figure out this number even though he knew it was between 2 and 3. Euler worked out this number some time after Bernulli proposed it. \n",
    "\n",
    "\n",
    "$$\n",
    "e = 2.7182...\n",
    "$$"
   ]
  },
  {
   "cell_type": "markdown",
   "metadata": {
    "collapsed": true
   },
   "source": [
    "## Logistic Regression\n",
    "\n",
    "As mentioned before, the idea is to transform our $\\beta_0 + \\beta_1X$ usinf the sigmoid function so that no matter what values our $\\beta_0 + \\beta_1X$ have, they will be bounded to be between 0 and 1. Logistic regression uses the equation below to estimate the probability that $y = 1$ given $X$.\n",
    "<br>\n",
    "<br>\n",
    "$$\n",
    "Pr(Y=1|X=x)=\\frac{e^{\\beta_0+\\beta_1X}}{1+e^{\\beta_0+\\beta_1X}}\n",
    "$$\n",
    "\n",
    "Lets use the Likelihood function $p(x_i,\\beta_0,\\beta_1)=Pr(Y=1|X=x_i)$ to represent the probability that $y = 1$ & $y = 0$ given $X$ where x is our independent variable. The funtion below gives the probability of the labels where the first part is the probability that $y = 1$ and the second part is the probability that $y = 0$.\n",
    "<br>\n",
    "<br>\n",
    "$$\n",
    "L(\\beta_0, \\beta_1) = \\prod_{i, y_i=1}p(x_i, \\beta_0, \\beta_1)\\prod_{i, y_i=0}(1-p(x_i, \\beta_0, \\beta_1))\n",
    "$$\n",
    "\n",
    "Technically, in a sample size n, the Likely function takes a form of a product. It is more convinient to work with the logarithm of the likelihood function, called the **Log-Likelihood** so that we are able to write it as the log of individually log terms and not the overall product. \n",
    "\n",
    "$$\n",
    "\\begin{align}\n",
    "\\log{L(\\beta_0,\\beta_1)} = \\sum_{i=1}^{n}\\{y_i(\\beta_0+\\beta_1X)-\\log(1+e^{\\beta_0+\\beta_1X})\\}\n",
    "\\end{align}\n",
    "$$"
   ]
  },
  {
   "cell_type": "code",
   "execution_count": null,
   "metadata": {
    "collapsed": true
   },
   "outputs": [],
   "source": []
  },
  {
   "cell_type": "markdown",
   "metadata": {},
   "source": [
    "To maximize the Log-Likelihood, most packages use the Gradiant descent or a variant of it to find the steepest path to the on the graph to the Log-Likelihood function. \n",
    "\n",
    "After estimating the parameters, the likelihood function will express the probability that $Y$ = 0 given $X$. If we set a threshhold on the probability then we can get a binary outcome. "
   ]
  },
  {
   "cell_type": "markdown",
   "metadata": {},
   "source": [
    "## Logistic Regression using Scikit-Learn \n",
    "\n",
    "Finally it is time to play aroud with what we learned. Lets get coding."
   ]
  },
  {
   "cell_type": "code",
   "execution_count": 4,
   "metadata": {
    "collapsed": true
   },
   "outputs": [],
   "source": [
    "#Lets Import all of out necesary packages\n",
    "import matplotlib.pyplot as plt\n",
    "import numpy as np\n",
    "import pandas as pd\n",
    "\n",
    "#Import the data\n",
    "data = pd.read_csv(\"pml2tumor.csv\")\n",
    "\n",
    "#Get our X values from the data, the size of the tumor which is the independent variable.\n",
    "#We will get is with double square brakets so its assigned to x as a Pandas data frame. \n",
    "x = data[[\"Size\"]]\n",
    "\n",
    "#Get our Y values from the data, the boolean of weather the tumor is malignant or not, our dependent variable.\n",
    "#We will get is with single square brakets so its assigned to y as a Pandas series.\n",
    "y = data[\"Malignant\"]"
   ]
  },
  {
   "cell_type": "code",
   "execution_count": null,
   "metadata": {
    "collapsed": true
   },
   "outputs": [],
   "source": []
  },
  {
   "cell_type": "code",
   "execution_count": 5,
   "metadata": {},
   "outputs": [
    {
     "data": {
      "text/plain": [
       "{'C': 1.0,\n",
       " 'class_weight': None,\n",
       " 'dual': False,\n",
       " 'fit_intercept': True,\n",
       " 'intercept_scaling': 1,\n",
       " 'max_iter': 100,\n",
       " 'multi_class': 'ovr',\n",
       " 'n_jobs': 1,\n",
       " 'penalty': 'l2',\n",
       " 'random_state': None,\n",
       " 'solver': 'liblinear',\n",
       " 'tol': 0.0001,\n",
       " 'verbose': 0,\n",
       " 'warm_start': False}"
      ]
     },
     "execution_count": 5,
     "metadata": {},
     "output_type": "execute_result"
    }
   ],
   "source": [
    "#Lets import linear model from sklearn, and assign LogisticRegression to logit \n",
    "from sklearn import linear_model\n",
    "logit = linear_model.LogisticRegression()\n",
    "\n",
    "#We can explore the parameters of logistic regression using the get_params() method\n",
    "logit.get_params()"
   ]
  },
  {
   "cell_type": "code",
   "execution_count": null,
   "metadata": {
    "collapsed": true
   },
   "outputs": [],
   "source": []
  },
  {
   "cell_type": "code",
   "execution_count": 6,
   "metadata": {},
   "outputs": [
    {
     "name": "stdout",
     "output_type": "stream",
     "text": [
      "Beta_0 = -16.679291\n",
      "Beta_1 = 4.504224\n"
     ]
    }
   ],
   "source": [
    "#NOW, lets fit the model, note we are not regularizing as that we will discuss later on hence lets set the\n",
    "#parametes with a large number\n",
    "logit.set_params(C=1e4)\n",
    "logit.fit(x, y)\n",
    "\n",
    "#Lets print our betas\n",
    "print('Beta_0 = %f' %logit.intercept_)\n",
    "print('Beta_1 = %f' %logit.coef_)"
   ]
  },
  {
   "cell_type": "code",
   "execution_count": null,
   "metadata": {
    "collapsed": true
   },
   "outputs": [],
   "source": []
  },
  {
   "cell_type": "code",
   "execution_count": 7,
   "metadata": {},
   "outputs": [
    {
     "name": "stdout",
     "output_type": "stream",
     "text": [
      "0.8333333333333334\n"
     ]
    }
   ],
   "source": [
    "#Note that we can evaluate the model using the score method. Very similar to R^2 in linear regression\n",
    "print(logit.score(x, y))"
   ]
  },
  {
   "cell_type": "code",
   "execution_count": null,
   "metadata": {
    "collapsed": true
   },
   "outputs": [],
   "source": []
  },
  {
   "cell_type": "markdown",
   "metadata": {},
   "source": [
    "Now that we model is ready we can start using it make predictions using the predict method and see the probability of a variable to be in one or another class by using the predict_proba method"
   ]
  },
  {
   "cell_type": "code",
   "execution_count": 8,
   "metadata": {},
   "outputs": [
    {
     "data": {
      "text/plain": [
       "array([1, 0, 0, 1, 1])"
      ]
     },
     "execution_count": 8,
     "metadata": {},
     "output_type": "execute_result"
    }
   ],
   "source": [
    "#Lets predict the outcome of the fallowing independent variables\n",
    "logit.predict([[10], [2], [3.70], [3.71], [11]])\n",
    "\n",
    "#Note something interesting, the model has set 3.70 as the threshold"
   ]
  },
  {
   "cell_type": "code",
   "execution_count": null,
   "metadata": {
    "collapsed": true
   },
   "outputs": [],
   "source": []
  },
  {
   "cell_type": "code",
   "execution_count": 9,
   "metadata": {},
   "outputs": [
    {
     "data": {
      "text/plain": [
       "array([[0.20790427, 0.79209573]])"
      ]
     },
     "execution_count": 9,
     "metadata": {},
     "output_type": "execute_result"
    }
   ],
   "source": [
    "#lets see the probability of a tumor size 4\n",
    "logit.predict_proba([[4]])"
   ]
  },
  {
   "cell_type": "code",
   "execution_count": null,
   "metadata": {
    "collapsed": true
   },
   "outputs": [],
   "source": []
  },
  {
   "cell_type": "markdown",
   "metadata": {},
   "source": [
    "According to our model, a tumor size 4 has 20.7% chance of being benign and 79.3% of being malignant"
   ]
  },
  {
   "cell_type": "markdown",
   "metadata": {},
   "source": [
    "Lets use the logistic_model_1Dplot() function to visulize the prediction made by opur model"
   ]
  },
  {
   "cell_type": "code",
   "execution_count": 25,
   "metadata": {},
   "outputs": [
    {
     "data": {
      "image/png": "[encoded data removed]",
      "text/plain": [
       "<matplotlib.figure.Figure at 0x1a168252b0>"
      ]
     },
     "metadata": {},
     "output_type": "display_data"
    }
   ],
   "source": [
    "#import the needed packages\n",
    "from PlottingFunction import data_1Dplot, logistic_model_1Dplot\n",
    "#IMPORTANT, make sure the PlottingFunction.py file is in the same filder as the notebook***\n",
    "\n",
    "## Plot the data points\n",
    "plt.figure(figsize=(10, 6))\n",
    "\n",
    "#Note we are using Pandas iloc indexer to change our x from dataframe to a series, required by this function\n",
    "data_1Dplot(x.iloc[:,0], y, \\\n",
    "             xlabel=\"Size\", ylabel=\"Malignant?\", \\\n",
    "             labels=[\"No\", \"Yes\"], \\\n",
    "             title=\"Tumor Size and Malignancy\")\n",
    "\n",
    "# Plot logistic model with original dataset\n",
    "logistic_model_1Dplot(x, logit)\n",
    "\n",
    "# Set plot range\n",
    "plt.axis([0,6,-0.2,1.2])\n",
    "\n",
    "# Legend top-left corner\n",
    "plt.legend(loc=2)\n",
    "\n",
    "#Show the graph\n",
    "plt.show()"
   ]
  },
  {
   "cell_type": "markdown",
   "metadata": {},
   "source": [
    "## Multivariable Logistic regression\n",
    "\n",
    "Very similar to Multiple Linear regression, for Multivariable Logistic Regression we are going to need the help of linear algebra and its matrix notation since we will be dealing with more than one independent variable. The matrix notation for Multivariable Logistic Regression can be written as fallows:\n",
    "\n",
    "$$Pr(Y=1|\\mathbf{X})=\\frac{e^{\\mathbf{X}\\beta}}{1+e^{\\mathbf{X}\\beta}}$$\n",
    "\n",
    "If you go back to Python Machine Learning 2, you can see in detail how we went from:\n",
    "\n",
    "$$y_i = \\beta_0 + \\beta_ix_i$$ \n",
    "\n",
    "to:\n",
    "\n",
    "$$\\hat{Y}=\\hat{\\beta}_0+\\sum_{i=1}^p\\hat{\\beta}_iX_i$$ \n",
    "\n",
    "and ended with:\n",
    "\n",
    "$$Y=X\\beta$$"
   ]
  },
  {
   "cell_type": "markdown",
   "metadata": {},
   "source": [
    "Lets work on an example. Lets say that a school requires students to take 2 admision test in order to evauate them and decide if they get in or not. we have a data set that can help us with that. Lets work on this project."
   ]
  },
  {
   "cell_type": "code",
   "execution_count": 29,
   "metadata": {},
   "outputs": [
    {
     "data": {
      "text/html": [
       "<div>\n",
       "<style scoped>\n",
       "    .dataframe tbody tr th:only-of-type {\n",
       "        vertical-align: middle;\n",
       "    }\n",
       "\n",
       "    .dataframe tbody tr th {\n",
       "        vertical-align: top;\n",
       "    }\n",
       "\n",
       "    .dataframe thead th {\n",
       "        text-align: right;\n",
       "    }\n",
       "</style>\n",
       "<table border=\"1\" class=\"dataframe\">\n",
       "  <thead>\n",
       "    <tr style=\"text-align: right;\">\n",
       "      <th></th>\n",
       "      <th>Decision</th>\n",
       "      <th>Test_1</th>\n",
       "      <th>Test_2</th>\n",
       "    </tr>\n",
       "  </thead>\n",
       "  <tbody>\n",
       "    <tr>\n",
       "      <th>0</th>\n",
       "      <td>1</td>\n",
       "      <td>81.0</td>\n",
       "      <td>85.0</td>\n",
       "    </tr>\n",
       "    <tr>\n",
       "      <th>1</th>\n",
       "      <td>0</td>\n",
       "      <td>71.0</td>\n",
       "      <td>85.0</td>\n",
       "    </tr>\n",
       "    <tr>\n",
       "      <th>2</th>\n",
       "      <td>1</td>\n",
       "      <td>80.0</td>\n",
       "      <td>90.0</td>\n",
       "    </tr>\n",
       "    <tr>\n",
       "      <th>3</th>\n",
       "      <td>0</td>\n",
       "      <td>79.0</td>\n",
       "      <td>84.0</td>\n",
       "    </tr>\n",
       "    <tr>\n",
       "      <th>4</th>\n",
       "      <td>0</td>\n",
       "      <td>72.0</td>\n",
       "      <td>94.0</td>\n",
       "    </tr>\n",
       "  </tbody>\n",
       "</table>\n",
       "</div>"
      ],
      "text/plain": [
       "   Decision  Test_1  Test_2\n",
       "0         1    81.0    85.0\n",
       "1         0    71.0    85.0\n",
       "2         1    80.0    90.0\n",
       "3         0    79.0    84.0\n",
       "4         0    72.0    94.0"
      ]
     },
     "execution_count": 29,
     "metadata": {},
     "output_type": "execute_result"
    }
   ],
   "source": [
    "#Load the data\n",
    "data_admin = pd.read_csv('pml2admission.csv')\n",
    "\n",
    "#see a glimpse of the data \n",
    "data_admin.head()"
   ]
  },
  {
   "cell_type": "code",
   "execution_count": 30,
   "metadata": {
    "collapsed": true
   },
   "outputs": [],
   "source": [
    "#Lets assign both columns of thest scores to our scores variable and the outcome to decision\n",
    "scores = data_admin[[\"Test_1\", \"Test_2\"]]\n",
    "decision = data_admin[\"Decision\"]"
   ]
  },
  {
   "cell_type": "code",
   "execution_count": 32,
   "metadata": {},
   "outputs": [
    {
     "data": {
      "image/png": "[encoded data removed]",
      "text/plain": [
       "<matplotlib.figure.Figure at 0x1a16d00cc0>"
      ]
     },
     "metadata": {},
     "output_type": "display_data"
    }
   ],
   "source": [
    "#Import our functions, remember to have the file PlottingFunction.py in the same folder\n",
    "from PlottingFunction import data_2Dplot, logistic_model_2Dplot, plotModel\n",
    "\n",
    "# Plotting our data points\n",
    "plt.figure(figsize=(10, 6))\n",
    "data_2Dplot(scores, decision, \\\n",
    "              legends=[\"Rejected\", \"Admitted\"], \\\n",
    "              xlabel=\"Test 1\", ylabel=\"Test 2\")\n",
    "#show the graph\n",
    "plt.show()"
   ]
  },
  {
   "cell_type": "code",
   "execution_count": 33,
   "metadata": {},
   "outputs": [
    {
     "data": {
      "text/plain": [
       "0.875"
      ]
     },
     "execution_count": 33,
     "metadata": {},
     "output_type": "execute_result"
    }
   ],
   "source": [
    "#again since we are not going to regularize lets set our parameter to a high number\n",
    "decision_logit = linear_model.LogisticRegression(C=1e4)\n",
    "\n",
    "# Fit the model\n",
    "decision_logit.fit(scores, decision)\n",
    "\n",
    "# Get the score (accuracy for classification problems)\n",
    "decision_logit.score(scores, decision)"
   ]
  },
  {
   "cell_type": "code",
   "execution_count": 43,
   "metadata": {},
   "outputs": [
    {
     "name": "stdout",
     "output_type": "stream",
     "text": [
      "Beta_0 = -81.401619\n",
      "Beta_1, Beta_2 = below\n",
      "[[0.41017514 0.57132359]]\n"
     ]
    }
   ],
   "source": [
    "#Print our betas\n",
    "print('Beta_0 = %f' %decision_logit.intercept_)\n",
    "print('Beta_1, Beta_2 = below')\n",
    "print(decision_logit.coef_)"
   ]
  },
  {
   "cell_type": "code",
   "execution_count": 50,
   "metadata": {},
   "outputs": [
    {
     "name": "stdout",
     "output_type": "stream",
     "text": [
      "[0]\n",
      "[1]\n"
     ]
    }
   ],
   "source": [
    "#lets predict a student who scored 40 and 59 in their test asn another who scored 80 and 86\n",
    "print(decision_logit.predict([[40, 59]]))\n",
    "print(decision_logit.predict([[80, 86]]))\n",
    "\n",
    "#0 represents not accepted and 1 represents accepted. Going by the grades, the outcome makes absoluse sence"
   ]
  },
  {
   "cell_type": "code",
   "execution_count": 51,
   "metadata": {},
   "outputs": [
    {
     "data": {
      "image/png": "[encoded data removed]",
      "text/plain": [
       "<matplotlib.figure.Figure at 0x1a16814128>"
      ]
     },
     "metadata": {},
     "output_type": "display_data"
    }
   ],
   "source": [
    "#Lets plot the outcome of the model with out data points \n",
    "plt.figure(figsize=(10, 6))\n",
    "data_2Dplot(scores, decision, \\\n",
    "            legends=[\"Rejected\", \"Admitted\"], \\\n",
    "            xlabel=\"Test 1\", ylabel=\"Test 2\")\n",
    "\n",
    "# Plot decision boundary\n",
    "logistic_model_2Dplot(scores, decision_logit)\n",
    "\n",
    "#see the plot\n",
    "plt.show()"
   ]
  },
  {
   "cell_type": "markdown",
   "metadata": {
    "collapsed": true
   },
   "source": [
    "## Logistic regression with more than two classes\n",
    "\n",
    "### One-vs-all\n",
    "\n",
    "When a problem has more than two classes, Logistic Regression uses an algorithm called one-vs-all classification. The way it works is that for example given a, b and c classes in the training set, it turns it into 3 different binary classification problems as fallows:\n",
    "\n",
    "Class a = $H_\\theta^{(a)}(x)$ --> class a vs. class b & c\n",
    "\n",
    "Class b = $H_\\theta^{(b)}(x)$ --> class b vs. class a & c\n",
    "\n",
    "Class c = $H_\\theta^{(c)}(x)$ --> class c vs. class b & a\n",
    "\n",
    "So to sumarize, what we have done is to fit $i$ number classifiers on the probability that $y = i$ while $x = \\theta$ as fallows:\n",
    "\n",
    "$H_\\theta^{(i)}(x)=P(y = i|x = \\theta)$ ($i$=a, b ,c)\n",
    "\n",
    "Lets work on an example to see better how it works. "
   ]
  },
  {
   "cell_type": "code",
   "execution_count": null,
   "metadata": {
    "collapsed": true
   },
   "outputs": [],
   "source": []
  },
  {
   "cell_type": "code",
   "execution_count": 100,
   "metadata": {
    "collapsed": true
   },
   "outputs": [],
   "source": [
    "#we will be using a dataset that is build in sklearn so lets import our iris data set\n",
    "from sklearn import datasets\n",
    "iris = datasets.load_iris()\n",
    "\n",
    "#for this exercise we will be using only the petal lenth and the petal width, the 3rd and 4th feaures of\n",
    "#the iris data set and assign them as the independent variables and the target as the dependent variable\n",
    "iris_x = iris.data[:,(1,2)]\n",
    "iris_y = iris.target"
   ]
  },
  {
   "cell_type": "code",
   "execution_count": 101,
   "metadata": {},
   "outputs": [
    {
     "data": {
      "text/plain": [
       "LogisticRegression(C=10000.0, class_weight=None, dual=False,\n",
       "          fit_intercept=True, intercept_scaling=1, max_iter=100,\n",
       "          multi_class='ovr', n_jobs=1, penalty='l2', random_state=None,\n",
       "          solver='liblinear', tol=0.0001, verbose=0, warm_start=False)"
      ]
     },
     "execution_count": 101,
     "metadata": {},
     "output_type": "execute_result"
    }
   ],
   "source": [
    "#again since we are not going to regularize lets set our parameter to a high number\n",
    "iris_logit = linear_model.LogisticRegression(C=1e4)\n",
    "# Lets fir the model\n",
    "iris_logit.fit(iris_x, iris_y)"
   ]
  },
  {
   "cell_type": "code",
   "execution_count": 102,
   "metadata": {},
   "outputs": [
    {
     "name": "stdout",
     "output_type": "stream",
     "text": [
      "0.9533333333333334\n"
     ]
    }
   ],
   "source": [
    "#Now lets see how accurate our model is using the score method\n",
    "print(iris_logit.score(iris_x, iris_y))"
   ]
  },
  {
   "cell_type": "code",
   "execution_count": 104,
   "metadata": {},
   "outputs": [
    {
     "name": "stdout",
     "output_type": "stream",
     "text": [
      "Intercept\n",
      "[  1.73622519   8.486567   -36.55389592]\n",
      "**************************************************\n",
      "Coeficients\n",
      "[[ 6.97804805 -8.49191021]\n",
      " [-3.15459097  0.04791412]\n",
      " [-2.5269779   9.00528527]]\n"
     ]
    }
   ],
   "source": [
    "# Lets get our Intercept\n",
    "print('Intercept')\n",
    "print(iris_logit.intercept_)\n",
    "print('*'*50)\n",
    "\n",
    "#Now our Coeficients\n",
    "print('Coeficients')\n",
    "print(iris_logit.coef_)"
   ]
  },
  {
   "cell_type": "code",
   "execution_count": 105,
   "metadata": {},
   "outputs": [
    {
     "data": {
      "image/png": "[encoded data removed]",
      "text/plain": [
       "<matplotlib.figure.Figure at 0x1a1c1cf4e0>"
      ]
     },
     "metadata": {},
     "output_type": "display_data"
    }
   ],
   "source": [
    "#Lets plot our model\n",
    "plt.figure(figsize=(10, 6))\n",
    "plotModel(iris_logit, iris_x[:, 0], iris_x[:, 1], label=iris_y)\n",
    "plt.show()"
   ]
  }
 ],
 "metadata": {
  "kernelspec": {
   "display_name": "Python 3",
   "language": "python",
   "name": "python3"
  },
  "language_info": {
   "codemirror_mode": {
    "name": "ipython",
    "version": 3
   },
   "file_extension": ".py",
   "mimetype": "text/x-python",
   "name": "python",
   "nbconvert_exporter": "python",
   "pygments_lexer": "ipython3",
   "version": "3.6.3"
  }
 },
 "nbformat": 4,
 "nbformat_minor": 2
}
