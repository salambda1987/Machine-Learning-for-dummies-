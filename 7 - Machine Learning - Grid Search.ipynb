{
 "cells": [
  {
   "cell_type": "markdown",
   "metadata": {
    "collapsed": true
   },
   "source": [
    "# Python Machine Learning 7\n",
    "# Grid Search\n",
    "## *By Sal Lascano*"
   ]
  },
  {
   "cell_type": "markdown",
   "metadata": {},
   "source": [
    "Okay! lets say that we are working on a project. We used cross validation to determine which model we will be using on our data. According to cross validation the most suitable model will be Lasso. Now its time to find out the best value for our parameter/lambda. We could try all values manually to see which one is the best but that will take a very long time. This is were we use Grid Search, a technic that helps us find the appropriate value of our Lambda.\n",
    "\n",
    "Grid Search tests every single possible parameter we ask it to and validates it via cross validation to see out of the ones it has tested which one is the best parameter for the specific problem. We learned about cross validation on notebook 4.\n",
    "\n",
    "Grid Search can be used also on the KNN algorithm (which we will talk about on notebook 10) to find out the appropriate number for K and to see its score.\n",
    "\n",
    "Lets walk through a example."
   ]
  },
  {
   "cell_type": "code",
   "execution_count": 9,
   "metadata": {
    "collapsed": true
   },
   "outputs": [],
   "source": [
    "#lets strat by importing the necesary libraries\n",
    "from sklearn import neighbors\n",
    "from sklearn.model_selection import GridSearchCV\n",
    "from sklearn import datasets\n",
    "knn = neighbors.KNeighborsClassifier()"
   ]
  },
  {
   "cell_type": "code",
   "execution_count": 3,
   "metadata": {
    "collapsed": true
   },
   "outputs": [],
   "source": [
    "#get that famous iris data\n",
    "iris = datasets.load_iris()\n",
    "\n",
    "# set the possible parameters or K from 3 to 30\n",
    "grid_param = [{'n_neighbors': range(3, 31)}]\n",
    "\n",
    "# fit all models, we will be using 5 folds on the cross validation as cv=5.\n",
    "# selecting accuracy for the scoring to get the best possible parameter\n",
    "para_search = GridSearchCV(estimator=knn, param_grid=grid_param, scoring='accuracy', cv=5, return_train_score=True)\n",
    "para_search = para_search.fit(iris.data, iris.target)"
   ]
  },
  {
   "cell_type": "code",
   "execution_count": 4,
   "metadata": {},
   "outputs": [
    {
     "name": "stdout",
     "output_type": "stream",
     "text": [
      "['mean_fit_time', 'std_fit_time', 'mean_score_time', 'std_score_time', 'param_n_neighbors', 'params', 'split0_test_score', 'split1_test_score', 'split2_test_score', 'split3_test_score', 'split4_test_score', 'mean_test_score', 'std_test_score', 'rank_test_score', 'split0_train_score', 'split1_train_score', 'split2_train_score', 'split3_train_score', 'split4_train_score', 'mean_train_score', 'std_train_score']\n"
     ]
    },
    {
     "data": {
      "text/plain": [
       "{'mean_fit_time': array([0.00045223, 0.00026994, 0.0003705 , 0.00035   , 0.00027766,\n",
       "        0.00023022, 0.00023456, 0.00022202, 0.00024409, 0.00024014,\n",
       "        0.00021844, 0.00021405, 0.00022235, 0.00020785, 0.000212  ,\n",
       "        0.00021319, 0.00020914, 0.00021582, 0.00022097, 0.00021572,\n",
       "        0.00020642, 0.00022202, 0.0001977 , 0.00020528, 0.00029216,\n",
       "        0.00022635, 0.00021052, 0.00019817]),\n",
       " 'mean_score_time': array([0.00068336, 0.00050206, 0.00067964, 0.00061793, 0.00048614,\n",
       "        0.00044279, 0.00044508, 0.00045681, 0.00044322, 0.00048299,\n",
       "        0.00045557, 0.00045614, 0.00046129, 0.0004427 , 0.00044723,\n",
       "        0.00045185, 0.0004683 , 0.00045719, 0.00047822, 0.00046978,\n",
       "        0.00043797, 0.00044627, 0.00044103, 0.00044789, 0.0006454 ,\n",
       "        0.00049052, 0.00043759, 0.00043244]),\n",
       " 'mean_test_score': array([0.96666667, 0.97333333, 0.97333333, 0.98      , 0.98      ,\n",
       "        0.96666667, 0.97333333, 0.98      , 0.98      , 0.98      ,\n",
       "        0.97333333, 0.96666667, 0.96666667, 0.96666667, 0.96666667,\n",
       "        0.96666667, 0.96666667, 0.96      , 0.96666667, 0.96      ,\n",
       "        0.96      , 0.94666667, 0.96      , 0.94666667, 0.94666667,\n",
       "        0.94      , 0.93333333, 0.94      ]),\n",
       " 'mean_train_score': array([0.96      , 0.96333333, 0.97      , 0.97333333, 0.97333333,\n",
       "        0.98      , 0.97833333, 0.97333333, 0.975     , 0.975     ,\n",
       "        0.97833333, 0.97666667, 0.97666667, 0.975     , 0.975     ,\n",
       "        0.975     , 0.97333333, 0.96666667, 0.96833333, 0.96333333,\n",
       "        0.96333333, 0.95666667, 0.96      , 0.955     , 0.95666667,\n",
       "        0.95166667, 0.95333333, 0.95      ]),\n",
       " 'param_n_neighbors': masked_array(data=[3, 4, 5, 6, 7, 8, 9, 10, 11, 12, 13, 14, 15, 16, 17,\n",
       "                    18, 19, 20, 21, 22, 23, 24, 25, 26, 27, 28, 29, 30],\n",
       "              mask=[False, False, False, False, False, False, False, False,\n",
       "                    False, False, False, False, False, False, False, False,\n",
       "                    False, False, False, False, False, False, False, False,\n",
       "                    False, False, False, False],\n",
       "        fill_value='?',\n",
       "             dtype=object),\n",
       " 'params': [{'n_neighbors': 3},\n",
       "  {'n_neighbors': 4},\n",
       "  {'n_neighbors': 5},\n",
       "  {'n_neighbors': 6},\n",
       "  {'n_neighbors': 7},\n",
       "  {'n_neighbors': 8},\n",
       "  {'n_neighbors': 9},\n",
       "  {'n_neighbors': 10},\n",
       "  {'n_neighbors': 11},\n",
       "  {'n_neighbors': 12},\n",
       "  {'n_neighbors': 13},\n",
       "  {'n_neighbors': 14},\n",
       "  {'n_neighbors': 15},\n",
       "  {'n_neighbors': 16},\n",
       "  {'n_neighbors': 17},\n",
       "  {'n_neighbors': 18},\n",
       "  {'n_neighbors': 19},\n",
       "  {'n_neighbors': 20},\n",
       "  {'n_neighbors': 21},\n",
       "  {'n_neighbors': 22},\n",
       "  {'n_neighbors': 23},\n",
       "  {'n_neighbors': 24},\n",
       "  {'n_neighbors': 25},\n",
       "  {'n_neighbors': 26},\n",
       "  {'n_neighbors': 27},\n",
       "  {'n_neighbors': 28},\n",
       "  {'n_neighbors': 29},\n",
       "  {'n_neighbors': 30}],\n",
       " 'rank_test_score': array([10,  6,  6,  1,  1, 10,  6,  1,  1,  1,  6, 10, 10, 10, 10, 10, 10,\n",
       "        19, 10, 19, 19, 23, 19, 23, 23, 26, 28, 26], dtype=int32),\n",
       " 'split0_test_score': array([0.96666667, 0.96666667, 0.96666667, 0.96666667, 0.96666667,\n",
       "        0.96666667, 0.96666667, 0.96666667, 0.93333333, 0.93333333,\n",
       "        0.93333333, 0.93333333, 0.93333333, 0.93333333, 0.93333333,\n",
       "        0.93333333, 0.93333333, 0.93333333, 0.93333333, 0.93333333,\n",
       "        0.93333333, 0.93333333, 0.93333333, 0.93333333, 0.9       ,\n",
       "        0.9       , 0.9       , 0.9       ]),\n",
       " 'split0_train_score': array([0.95833333, 0.95833333, 0.96666667, 0.96666667, 0.96666667,\n",
       "        0.975     , 0.975     , 0.975     , 0.98333333, 0.98333333,\n",
       "        0.98333333, 0.98333333, 0.98333333, 0.98333333, 0.98333333,\n",
       "        0.98333333, 0.98333333, 0.98333333, 0.96666667, 0.975     ,\n",
       "        0.975     , 0.975     , 0.975     , 0.975     , 0.96666667,\n",
       "        0.95      , 0.95833333, 0.95833333]),\n",
       " 'split1_test_score': array([0.96666667, 0.96666667, 1.        , 1.        , 1.        ,\n",
       "        1.        , 1.        , 1.        , 1.        , 1.        ,\n",
       "        1.        , 1.        , 1.        , 1.        , 1.        ,\n",
       "        1.        , 1.        , 1.        , 1.        , 1.        ,\n",
       "        1.        , 0.96666667, 0.96666667, 0.96666667, 0.96666667,\n",
       "        0.96666667, 0.96666667, 0.96666667]),\n",
       " 'split1_train_score': array([0.95833333, 0.95833333, 0.96666667, 0.975     , 0.96666667,\n",
       "        0.98333333, 0.98333333, 0.975     , 0.975     , 0.975     ,\n",
       "        0.975     , 0.975     , 0.975     , 0.98333333, 0.96666667,\n",
       "        0.98333333, 0.975     , 0.95833333, 0.975     , 0.94166667,\n",
       "        0.95      , 0.94166667, 0.95      , 0.93333333, 0.94166667,\n",
       "        0.94166667, 0.94166667, 0.93333333]),\n",
       " 'split2_test_score': array([0.93333333, 0.96666667, 0.93333333, 0.96666667, 0.96666667,\n",
       "        0.93333333, 0.96666667, 1.        , 1.        , 1.        ,\n",
       "        0.96666667, 0.96666667, 0.93333333, 0.93333333, 0.93333333,\n",
       "        0.96666667, 0.93333333, 0.93333333, 0.93333333, 0.93333333,\n",
       "        0.93333333, 0.9       , 0.93333333, 0.93333333, 0.93333333,\n",
       "        0.93333333, 0.9       , 0.93333333]),\n",
       " 'split2_train_score': array([0.96666667, 0.95833333, 0.975     , 0.975     , 0.975     ,\n",
       "        0.975     , 0.975     , 0.975     , 0.975     , 0.975     ,\n",
       "        0.975     , 0.975     , 0.98333333, 0.975     , 0.98333333,\n",
       "        0.975     , 0.975     , 0.975     , 0.975     , 0.95833333,\n",
       "        0.95833333, 0.95833333, 0.96666667, 0.96666667, 0.96666667,\n",
       "        0.95833333, 0.95833333, 0.95833333]),\n",
       " 'split3_test_score': array([0.96666667, 0.96666667, 0.96666667, 0.96666667, 0.96666667,\n",
       "        0.93333333, 0.93333333, 0.93333333, 0.96666667, 0.96666667,\n",
       "        0.96666667, 0.93333333, 0.96666667, 0.96666667, 0.96666667,\n",
       "        0.93333333, 0.96666667, 0.93333333, 0.96666667, 0.93333333,\n",
       "        0.93333333, 0.93333333, 0.96666667, 0.9       , 0.93333333,\n",
       "        0.9       , 0.9       , 0.9       ]),\n",
       " 'split3_train_score': array([0.96666667, 0.975     , 0.975     , 0.98333333, 0.98333333,\n",
       "        0.99166667, 0.98333333, 0.98333333, 0.975     , 0.98333333,\n",
       "        0.98333333, 0.98333333, 0.975     , 0.98333333, 0.98333333,\n",
       "        0.98333333, 0.98333333, 0.975     , 0.975     , 0.99166667,\n",
       "        0.98333333, 0.975     , 0.96666667, 0.96666667, 0.96666667,\n",
       "        0.96666667, 0.96666667, 0.96666667]),\n",
       " 'split4_test_score': array([1., 1., 1., 1., 1., 1., 1., 1., 1., 1., 1., 1., 1., 1., 1., 1., 1.,\n",
       "        1., 1., 1., 1., 1., 1., 1., 1., 1., 1., 1.]),\n",
       " 'split4_train_score': array([0.95      , 0.96666667, 0.96666667, 0.96666667, 0.975     ,\n",
       "        0.975     , 0.975     , 0.95833333, 0.96666667, 0.95833333,\n",
       "        0.975     , 0.96666667, 0.96666667, 0.95      , 0.95833333,\n",
       "        0.95      , 0.95      , 0.94166667, 0.95      , 0.95      ,\n",
       "        0.95      , 0.93333333, 0.94166667, 0.93333333, 0.94166667,\n",
       "        0.94166667, 0.94166667, 0.93333333]),\n",
       " 'std_fit_time': array([3.29590844e-04, 6.66105840e-06, 1.06921416e-04, 1.52250528e-04,\n",
       "        3.83851247e-05, 1.31624331e-05, 2.50711165e-05, 1.41773880e-06,\n",
       "        3.45430263e-05, 3.06849065e-05, 6.51262508e-06, 1.90973133e-06,\n",
       "        2.04488100e-05, 4.62310777e-07, 7.65082211e-06, 1.01601008e-06,\n",
       "        2.22841672e-06, 6.98432161e-06, 1.36947765e-05, 7.27766611e-06,\n",
       "        1.04904175e-06, 3.03956666e-05, 4.70452480e-06, 1.74570598e-05,\n",
       "        7.32269743e-05, 1.34532318e-06, 2.03308289e-05, 1.14242063e-06]),\n",
       " 'std_score_time': array([3.05214611e-04, 1.92079572e-05, 7.71297332e-05, 1.66536250e-04,\n",
       "        2.88094104e-05, 1.78221038e-05, 1.59319280e-05, 2.72836705e-05,\n",
       "        1.97458952e-05, 6.31566091e-05, 4.05758443e-05, 5.54800392e-05,\n",
       "        4.44309894e-05, 4.26393215e-05, 2.54888975e-05, 1.42441085e-05,\n",
       "        5.58596770e-05, 3.35269764e-05, 6.44096341e-05, 3.70148511e-05,\n",
       "        2.94328677e-06, 9.73425423e-06, 3.18891066e-05, 4.95478552e-05,\n",
       "        1.64973598e-04, 8.43961359e-06, 1.42466622e-05, 6.46356242e-06]),\n",
       " 'std_test_score': array([0.02108185, 0.01333333, 0.02494438, 0.01632993, 0.01632993,\n",
       "        0.02981424, 0.02494438, 0.02666667, 0.02666667, 0.02666667,\n",
       "        0.02494438, 0.02981424, 0.02981424, 0.02981424, 0.02981424,\n",
       "        0.02981424, 0.02981424, 0.03265986, 0.02981424, 0.03265986,\n",
       "        0.03265986, 0.03399346, 0.02494438, 0.03399346, 0.03399346,\n",
       "        0.03887301, 0.0421637 , 0.03887301]),\n",
       " 'std_train_score': array([0.0062361 , 0.00666667, 0.00408248, 0.0062361 , 0.0062361 ,\n",
       "        0.00666667, 0.00408248, 0.00816497, 0.00527046, 0.00912871,\n",
       "        0.00408248, 0.0062361 , 0.0062361 , 0.01290994, 0.01054093,\n",
       "        0.01290994, 0.01224745, 0.01490712, 0.00971825, 0.01795055,\n",
       "        0.01354006, 0.01699673, 0.01224745, 0.01795055, 0.01224745,\n",
       "        0.00971825, 0.01      , 0.01394433])}"
      ]
     },
     "execution_count": 4,
     "metadata": {},
     "output_type": "execute_result"
    }
   ],
   "source": [
    "# cv_results_ stores a lot of information about the cross validation, lets print it\n",
    "print(list(para_search.cv_results_.keys()))\n",
    "para_search.cv_results_"
   ]
  },
  {
   "cell_type": "code",
   "execution_count": 5,
   "metadata": {},
   "outputs": [
    {
     "name": "stderr",
     "output_type": "stream",
     "text": [
      "/Users/sals/anaconda3/lib/python3.6/site-packages/sklearn/model_selection/_search.py:761: DeprecationWarning: The grid_scores_ attribute was deprecated in version 0.18 in favor of the more elaborate cv_results_ attribute. The grid_scores_ attribute will not be available from 0.20\n",
      "  DeprecationWarning)\n"
     ]
    },
    {
     "data": {
      "text/plain": [
       "[mean: 0.96667, std: 0.02108, params: {'n_neighbors': 3},\n",
       " mean: 0.97333, std: 0.01333, params: {'n_neighbors': 4},\n",
       " mean: 0.97333, std: 0.02494, params: {'n_neighbors': 5},\n",
       " mean: 0.98000, std: 0.01633, params: {'n_neighbors': 6},\n",
       " mean: 0.98000, std: 0.01633, params: {'n_neighbors': 7},\n",
       " mean: 0.96667, std: 0.02981, params: {'n_neighbors': 8},\n",
       " mean: 0.97333, std: 0.02494, params: {'n_neighbors': 9},\n",
       " mean: 0.98000, std: 0.02667, params: {'n_neighbors': 10},\n",
       " mean: 0.98000, std: 0.02667, params: {'n_neighbors': 11},\n",
       " mean: 0.98000, std: 0.02667, params: {'n_neighbors': 12},\n",
       " mean: 0.97333, std: 0.02494, params: {'n_neighbors': 13},\n",
       " mean: 0.96667, std: 0.02981, params: {'n_neighbors': 14},\n",
       " mean: 0.96667, std: 0.02981, params: {'n_neighbors': 15},\n",
       " mean: 0.96667, std: 0.02981, params: {'n_neighbors': 16},\n",
       " mean: 0.96667, std: 0.02981, params: {'n_neighbors': 17},\n",
       " mean: 0.96667, std: 0.02981, params: {'n_neighbors': 18},\n",
       " mean: 0.96667, std: 0.02981, params: {'n_neighbors': 19},\n",
       " mean: 0.96000, std: 0.03266, params: {'n_neighbors': 20},\n",
       " mean: 0.96667, std: 0.02981, params: {'n_neighbors': 21},\n",
       " mean: 0.96000, std: 0.03266, params: {'n_neighbors': 22},\n",
       " mean: 0.96000, std: 0.03266, params: {'n_neighbors': 23},\n",
       " mean: 0.94667, std: 0.03399, params: {'n_neighbors': 24},\n",
       " mean: 0.96000, std: 0.02494, params: {'n_neighbors': 25},\n",
       " mean: 0.94667, std: 0.03399, params: {'n_neighbors': 26},\n",
       " mean: 0.94667, std: 0.03399, params: {'n_neighbors': 27},\n",
       " mean: 0.94000, std: 0.03887, params: {'n_neighbors': 28},\n",
       " mean: 0.93333, std: 0.04216, params: {'n_neighbors': 29},\n",
       " mean: 0.94000, std: 0.03887, params: {'n_neighbors': 30}]"
      ]
     },
     "execution_count": 5,
     "metadata": {},
     "output_type": "execute_result"
    }
   ],
   "source": [
    "# lets check out the scores of the parametes\n",
    "para_search.grid_scores_\n",
    "\n",
    "#Check out how k=7 & 7 have the same scores but given that we asked for more decimals we probably\n",
    "#would be able to see that perhaps after many decimals, k=6 is better than k=7"
   ]
  },
  {
   "cell_type": "code",
   "execution_count": 6,
   "metadata": {},
   "outputs": [
    {
     "name": "stdout",
     "output_type": "stream",
     "text": [
      "0.98\n",
      "{'n_neighbors': 6}\n"
     ]
    }
   ],
   "source": [
    "#lets print the set score\n",
    "print(para_search.best_score_)\n",
    "\n",
    "#and wich K gave us that score\n",
    "print(para_search.best_params_)"
   ]
  },
  {
   "cell_type": "markdown",
   "metadata": {},
   "source": [
    "The best parameter is 6 corresponding to an accuracy of 98%"
   ]
  }
 ],
 "metadata": {
  "kernelspec": {
   "display_name": "Python 3",
   "language": "python",
   "name": "python3"
  },
  "language_info": {
   "codemirror_mode": {
    "name": "ipython",
    "version": 3
   },
   "file_extension": ".py",
   "mimetype": "text/x-python",
   "name": "python",
   "nbconvert_exporter": "python",
   "pygments_lexer": "ipython3",
   "version": "3.6.3"
  }
 },
 "nbformat": 4,
 "nbformat_minor": 2
}
